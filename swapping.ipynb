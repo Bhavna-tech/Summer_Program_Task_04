{
 "cells": [
  {
   "cell_type": "code",
   "execution_count": 83,
   "id": "0a4e4d6e",
   "metadata": {},
   "outputs": [],
   "source": [
    "import cv2"
   ]
  },
  {
   "cell_type": "code",
   "execution_count": 84,
   "id": "e793e46a",
   "metadata": {},
   "outputs": [],
   "source": [
    "# read firey butterfly\n",
    "fb = cv2.imread(\"fire_butterfly.jpg\")\n"
   ]
  },
  {
   "cell_type": "code",
   "execution_count": null,
   "id": "74ebe62b",
   "metadata": {},
   "outputs": [],
   "source": [
    "#display firey butterfly\n",
    "cv2.imshow(\"Firey butterfly\",fb)\n",
    "cv2.waitKey()\n",
    "cv2.destroyAllWindows()"
   ]
  },
  {
   "cell_type": "code",
   "execution_count": 85,
   "id": "6f1adb19",
   "metadata": {},
   "outputs": [],
   "source": [
    "#angelic butterfly\n",
    "wb = cv2.imread(\"water_butterfly.jpg\")\n"
   ]
  },
  {
   "cell_type": "code",
   "execution_count": null,
   "id": "02ffc355",
   "metadata": {},
   "outputs": [],
   "source": [
    "#display angelic butterfly\n",
    "cv2.imshow(\"Agelic butterfly\",wb)\n",
    "cv2.waitKey()\n",
    "cv2.destroyAllWindows()"
   ]
  },
  {
   "cell_type": "code",
   "execution_count": 86,
   "id": "b310acc4",
   "metadata": {},
   "outputs": [],
   "source": [
    "#resize firey butterfly\n",
    "fb=cv2.resize(fb,(450,306))"
   ]
  },
  {
   "cell_type": "code",
   "execution_count": 87,
   "id": "3f60f6f9",
   "metadata": {},
   "outputs": [],
   "source": [
    "#crop wb and swap\n",
    "cwb = wb[:,225:450]\n",
    "fb[:,225:450] = cwb\n",
    "cv2.imshow(\"Fire + water\",fb)\n",
    "cv2.waitKey()\n",
    "cv2.destroyAllWindows()"
   ]
  },
  {
   "cell_type": "code",
   "execution_count": 88,
   "id": "addf74a9",
   "metadata": {},
   "outputs": [],
   "source": [
    "#crop fb and swap\n",
    "fb = cv2.imread(\"fire_butterfly.jpg\")\n",
    "wb = cv2.imread(\"water_butterfly.jpg\")\n",
    "fb=cv2.resize(fb,(450,306))\n",
    "cfb = fb[:,225:450]\n",
    "wb[:,225:450] = cfb\n",
    "cv2.imshow(\"water + fire\",wb)\n",
    "cv2.waitKey()\n",
    "cv2.destroyAllWindows()"
   ]
  },
  {
   "cell_type": "code",
   "execution_count": null,
   "id": "da2a43bb",
   "metadata": {},
   "outputs": [],
   "source": []
  }
 ],
 "metadata": {
  "kernelspec": {
   "display_name": "Python 3",
   "language": "python",
   "name": "python3"
  },
  "language_info": {
   "codemirror_mode": {
    "name": "ipython",
    "version": 3
   },
   "file_extension": ".py",
   "mimetype": "text/x-python",
   "name": "python",
   "nbconvert_exporter": "python",
   "pygments_lexer": "ipython3",
   "version": "3.8.8"
  }
 },
 "nbformat": 4,
 "nbformat_minor": 5
}
