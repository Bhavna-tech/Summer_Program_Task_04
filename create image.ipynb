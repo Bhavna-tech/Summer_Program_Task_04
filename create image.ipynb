{
 "cells": [
  {
   "cell_type": "code",
   "execution_count": 13,
   "id": "ea399bca",
   "metadata": {},
   "outputs": [],
   "source": [
    "import cv2"
   ]
  },
  {
   "cell_type": "code",
   "execution_count": 14,
   "id": "b4cfd918",
   "metadata": {},
   "outputs": [],
   "source": [
    "import numpy"
   ]
  },
  {
   "cell_type": "code",
   "execution_count": 15,
   "id": "bf1df297",
   "metadata": {},
   "outputs": [],
   "source": [
    "image = numpy.zeros((500,500,3))"
   ]
  },
  {
   "cell_type": "code",
   "execution_count": 16,
   "id": "74c6dbba",
   "metadata": {},
   "outputs": [
    {
     "data": {
      "text/plain": [
       "(500, 500, 3)"
      ]
     },
     "execution_count": 16,
     "metadata": {},
     "output_type": "execute_result"
    }
   ],
   "source": [
    "image.shape"
   ]
  },
  {
   "cell_type": "code",
   "execution_count": 17,
   "id": "78de815d",
   "metadata": {},
   "outputs": [],
   "source": [
    "#image 1\n",
    "image[0:250,0:250] = [0,0,255]\n",
    "image[0:250,250:500] = [0,255,255]\n",
    "image[250:500,250:500] = [255,0,0]"
   ]
  },
  {
   "cell_type": "code",
   "execution_count": 18,
   "id": "3a5acba4",
   "metadata": {},
   "outputs": [],
   "source": [
    "cv2.imshow(\"developed image\",image)\n",
    "cv2.waitKey()\n",
    "cv2.destroyAllWindows()"
   ]
  },
  {
   "cell_type": "code",
   "execution_count": 52,
   "id": "d6b96341",
   "metadata": {},
   "outputs": [],
   "source": []
  },
  {
   "cell_type": "code",
   "execution_count": null,
   "id": "ad0dd278",
   "metadata": {},
   "outputs": [],
   "source": []
  }
 ],
 "metadata": {
  "kernelspec": {
   "display_name": "Python 3",
   "language": "python",
   "name": "python3"
  },
  "language_info": {
   "codemirror_mode": {
    "name": "ipython",
    "version": 3
   },
   "file_extension": ".py",
   "mimetype": "text/x-python",
   "name": "python",
   "nbconvert_exporter": "python",
   "pygments_lexer": "ipython3",
   "version": "3.8.8"
  }
 },
 "nbformat": 4,
 "nbformat_minor": 5
}
