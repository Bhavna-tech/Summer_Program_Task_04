{
 "cells": [
  {
   "cell_type": "code",
   "execution_count": 91,
   "id": "cc5cbeb3",
   "metadata": {},
   "outputs": [],
   "source": [
    "import cv2"
   ]
  },
  {
   "cell_type": "code",
   "execution_count": 92,
   "id": "7a08ca87",
   "metadata": {},
   "outputs": [],
   "source": [
    "# read fire image\n",
    "fire = cv2.imread(\"Fire.jpg\")"
   ]
  },
  {
   "cell_type": "code",
   "execution_count": null,
   "id": "2b2c3a8b",
   "metadata": {},
   "outputs": [],
   "source": [
    "#display fire image\n",
    "cv2.imshow(\"Fire\",fire)\n",
    "cv2.waitKey()\n",
    "cv2.destroyAllWindows()"
   ]
  },
  {
   "cell_type": "code",
   "execution_count": 93,
   "id": "6d0ffd42",
   "metadata": {},
   "outputs": [],
   "source": [
    "# read water image\n",
    "water = cv2.imread(\"howtinywater.jpg\")"
   ]
  },
  {
   "cell_type": "code",
   "execution_count": null,
   "id": "83125f58",
   "metadata": {},
   "outputs": [],
   "source": [
    "#resize the image\n",
    "water=cv2.resize(water,(225,225))"
   ]
  },
  {
   "cell_type": "code",
   "execution_count": null,
   "id": "091d13fe",
   "metadata": {},
   "outputs": [],
   "source": [
    "cv2.imshow(\"water\",water)\n",
    "cv2.waitKey()\n",
    "cv2.destroyAllWindows()"
   ]
  },
  {
   "cell_type": "code",
   "execution_count": 94,
   "id": "86f515c9",
   "metadata": {},
   "outputs": [],
   "source": [
    "import numpy as ny"
   ]
  },
  {
   "cell_type": "code",
   "execution_count": null,
   "id": "22083945",
   "metadata": {},
   "outputs": [],
   "source": [
    "#horizontal collage\n",
    "h = ny.hstack([fire,water])"
   ]
  },
  {
   "cell_type": "code",
   "execution_count": null,
   "id": "078b4826",
   "metadata": {},
   "outputs": [],
   "source": [
    "#display horizontal collage\n",
    "cv2.imshow(\"horizontal collage\",h)\n",
    "cv2.waitKey()\n",
    "cv2.destroyAllWindows()"
   ]
  },
  {
   "cell_type": "code",
   "execution_count": 95,
   "id": "c0ac674e",
   "metadata": {},
   "outputs": [],
   "source": [
    "#vertical collage\n",
    "v = ny.vstack([fire,water])"
   ]
  },
  {
   "cell_type": "code",
   "execution_count": 78,
   "id": "9c5bbe58",
   "metadata": {},
   "outputs": [],
   "source": [
    "#display vertical collage\n",
    "cv2.imshow(\"vertical collage\",v)\n",
    "cv2.waitKey()\n",
    "cv2.destroyAllWindows()"
   ]
  },
  {
   "cell_type": "code",
   "execution_count": null,
   "id": "eba23f42",
   "metadata": {},
   "outputs": [],
   "source": []
  }
 ],
 "metadata": {
  "kernelspec": {
   "display_name": "Python 3",
   "language": "python",
   "name": "python3"
  },
  "language_info": {
   "codemirror_mode": {
    "name": "ipython",
    "version": 3
   },
   "file_extension": ".py",
   "mimetype": "text/x-python",
   "name": "python",
   "nbconvert_exporter": "python",
   "pygments_lexer": "ipython3",
   "version": "3.8.8"
  }
 },
 "nbformat": 4,
 "nbformat_minor": 5
}
